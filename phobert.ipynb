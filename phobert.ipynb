{
 "cells": [
  {
   "cell_type": "code",
   "execution_count": 1,
   "id": "particular-active",
   "metadata": {},
   "outputs": [],
   "source": [
    "import pandas as pd\n",
    "import re\n",
    "import gensim # thư viện NLP\n",
    "from pyvi import ViTokenizer, ViPosTagger # thư viện NLP tiếng Việt\n",
    "from pandas import DataFrame\n",
    "import re"
   ]
  },
  {
   "cell_type": "code",
   "execution_count": 2,
   "id": "radio-click",
   "metadata": {},
   "outputs": [],
   "source": [
    "xl = pd.ExcelFile('data.xlsx')\n",
    "for name in xl.sheet_names:\n",
    "    df = xl.parse(name)"
   ]
  },
  {
   "cell_type": "code",
   "execution_count": 3,
   "id": "numeric-commodity",
   "metadata": {},
   "outputs": [
    {
     "data": {
      "text/html": [
       "<div>\n",
       "<style scoped>\n",
       "    .dataframe tbody tr th:only-of-type {\n",
       "        vertical-align: middle;\n",
       "    }\n",
       "\n",
       "    .dataframe tbody tr th {\n",
       "        vertical-align: top;\n",
       "    }\n",
       "\n",
       "    .dataframe thead th {\n",
       "        text-align: right;\n",
       "    }\n",
       "</style>\n",
       "<table border=\"1\" class=\"dataframe\">\n",
       "  <thead>\n",
       "    <tr style=\"text-align: right;\">\n",
       "      <th></th>\n",
       "      <th>Rating</th>\n",
       "      <th>Content</th>\n",
       "    </tr>\n",
       "  </thead>\n",
       "  <tbody>\n",
       "    <tr>\n",
       "      <th>0</th>\n",
       "      <td>5</td>\n",
       "      <td>1234570000000000120924793754905402008253644144...</td>\n",
       "    </tr>\n",
       "    <tr>\n",
       "      <th>1</th>\n",
       "      <td>5</td>\n",
       "      <td>\"Cuộc hành trình ngàn dặm nào cũng phải bắt đầ...</td>\n",
       "    </tr>\n",
       "    <tr>\n",
       "      <th>2</th>\n",
       "      <td>5</td>\n",
       "      <td>*Thật sự rất đáng tiền khi mua cuốn sách này đ...</td>\n",
       "    </tr>\n",
       "    <tr>\n",
       "      <th>3</th>\n",
       "      <td>5</td>\n",
       "      <td>,</td>\n",
       "    </tr>\n",
       "    <tr>\n",
       "      <th>4</th>\n",
       "      <td>5</td>\n",
       "      <td>.</td>\n",
       "    </tr>\n",
       "    <tr>\n",
       "      <th>...</th>\n",
       "      <td>...</td>\n",
       "      <td>...</td>\n",
       "    </tr>\n",
       "    <tr>\n",
       "      <th>11264</th>\n",
       "      <td>1</td>\n",
       "      <td>yêu cầu shop xác nhận đơn hàng dùm lâu quá rồi</td>\n",
       "    </tr>\n",
       "    <tr>\n",
       "      <th>11265</th>\n",
       "      <td>1</td>\n",
       "      <td>YÊU CẦU TIKI DÁN TEM HÀNG DỂ VỠ, mua bia về là...</td>\n",
       "    </tr>\n",
       "    <tr>\n",
       "      <th>11266</th>\n",
       "      <td>1</td>\n",
       "      <td>yêu cầu tiki làm việc với bên vận chuyển giao ...</td>\n",
       "    </tr>\n",
       "    <tr>\n",
       "      <th>11267</th>\n",
       "      <td>1</td>\n",
       "      <td>yêu câu tiki xác nhận có đúng chính xác là ino...</td>\n",
       "    </tr>\n",
       "    <tr>\n",
       "      <th>11268</th>\n",
       "      <td>1</td>\n",
       "      <td>yêu câu tiki xác nhận có đúng chính xác là ino...</td>\n",
       "    </tr>\n",
       "  </tbody>\n",
       "</table>\n",
       "<p>11269 rows × 2 columns</p>\n",
       "</div>"
      ],
      "text/plain": [
       "       Rating                                            Content\n",
       "0           5  1234570000000000120924793754905402008253644144...\n",
       "1           5  \"Cuộc hành trình ngàn dặm nào cũng phải bắt đầ...\n",
       "2           5  *Thật sự rất đáng tiền khi mua cuốn sách này đ...\n",
       "3           5                                                  ,\n",
       "4           5                                                  .\n",
       "...       ...                                                ...\n",
       "11264       1     yêu cầu shop xác nhận đơn hàng dùm lâu quá rồi\n",
       "11265       1  YÊU CẦU TIKI DÁN TEM HÀNG DỂ VỠ, mua bia về là...\n",
       "11266       1  yêu cầu tiki làm việc với bên vận chuyển giao ...\n",
       "11267       1  yêu câu tiki xác nhận có đúng chính xác là ino...\n",
       "11268       1  yêu câu tiki xác nhận có đúng chính xác là ino...\n",
       "\n",
       "[11269 rows x 2 columns]"
      ]
     },
     "execution_count": 3,
     "metadata": {},
     "output_type": "execute_result"
    }
   ],
   "source": [
    "df"
   ]
  },
  {
   "cell_type": "code",
   "execution_count": 4,
   "id": "blessed-temple",
   "metadata": {},
   "outputs": [],
   "source": [
    "from collections import Counter"
   ]
  },
  {
   "cell_type": "code",
   "execution_count": 26,
   "id": "unexpected-coupon",
   "metadata": {},
   "outputs": [],
   "source": [
    "chars_to_ignore_regex = '[\\,\\?\\.\\!\\-\\;\\:\\\"\\\\\\n\\(\\)]'\n",
    "\n",
    "def remove_special_characters(batch):\n",
    "    batch = re.sub(chars_to_ignore_regex, '', batch)\n",
    "    return batch"
   ]
  },
  {
   "cell_type": "code",
   "execution_count": 27,
   "id": "changed-grove",
   "metadata": {},
   "outputs": [],
   "source": [
    "def remove_number_characters(batch):\n",
    "    batch = re.sub(\"\\d+\",'', batch)\n",
    "    return batch"
   ]
  },
  {
   "cell_type": "code",
   "execution_count": 28,
   "id": "invalid-shade",
   "metadata": {},
   "outputs": [],
   "source": [
    "def remove_any_special_left(batch):\n",
    "    # Loại bỏ các kí tự đặc biệt\n",
    "    batch = gensim.utils.simple_preprocess(batch)\n",
    "    batch = ' '.join(batch)\n",
    "    # Sau khi loại bỏ kí tự đặc biệt thì file sẽ bị mất nhận diện chuỗi -> thêm dấu nháy vào chuỗi\n",
    "    return batch"
   ]
  },
  {
   "cell_type": "code",
   "execution_count": 29,
   "id": "worse-allen",
   "metadata": {},
   "outputs": [],
   "source": [
    "df.dropna(inplace=True)"
   ]
  },
  {
   "cell_type": "code",
   "execution_count": 30,
   "id": "foster-paper",
   "metadata": {},
   "outputs": [],
   "source": [
    "df['Content'] = df['Content'].astype('str')"
   ]
  },
  {
   "cell_type": "code",
   "execution_count": 31,
   "id": "hungry-jefferson",
   "metadata": {},
   "outputs": [],
   "source": [
    "df['Content'] = df['Content'].apply(remove_number_characters)\n",
    "df['Content'] = df['Content'].apply(remove_special_characters)\n",
    "df['Content'] = df['Content'].apply(remove_any_special_left)"
   ]
  },
  {
   "cell_type": "code",
   "execution_count": 14,
   "id": "administrative-asthma",
   "metadata": {},
   "outputs": [
    {
     "data": {
      "text/html": [
       "<div>\n",
       "<style scoped>\n",
       "    .dataframe tbody tr th:only-of-type {\n",
       "        vertical-align: middle;\n",
       "    }\n",
       "\n",
       "    .dataframe tbody tr th {\n",
       "        vertical-align: top;\n",
       "    }\n",
       "\n",
       "    .dataframe thead th {\n",
       "        text-align: right;\n",
       "    }\n",
       "</style>\n",
       "<table border=\"1\" class=\"dataframe\">\n",
       "  <thead>\n",
       "    <tr style=\"text-align: right;\">\n",
       "      <th></th>\n",
       "      <th>Rating</th>\n",
       "      <th>Content</th>\n",
       "    </tr>\n",
       "  </thead>\n",
       "  <tbody>\n",
       "    <tr>\n",
       "      <th>0</th>\n",
       "      <td>5</td>\n",
       "      <td>1234570000000000120924793754905402008253644144...</td>\n",
       "    </tr>\n",
       "    <tr>\n",
       "      <th>1</th>\n",
       "      <td>5</td>\n",
       "      <td>\"Cuộc hành trình ngàn dặm nào cũng phải bắt đầ...</td>\n",
       "    </tr>\n",
       "    <tr>\n",
       "      <th>2</th>\n",
       "      <td>5</td>\n",
       "      <td>*Thật sự rất đáng tiền khi mua cuốn sách này đ...</td>\n",
       "    </tr>\n",
       "    <tr>\n",
       "      <th>3</th>\n",
       "      <td>5</td>\n",
       "      <td>,</td>\n",
       "    </tr>\n",
       "    <tr>\n",
       "      <th>4</th>\n",
       "      <td>5</td>\n",
       "      <td>.</td>\n",
       "    </tr>\n",
       "    <tr>\n",
       "      <th>...</th>\n",
       "      <td>...</td>\n",
       "      <td>...</td>\n",
       "    </tr>\n",
       "    <tr>\n",
       "      <th>11264</th>\n",
       "      <td>1</td>\n",
       "      <td>yêu cầu shop xác nhận đơn hàng dùm lâu quá rồi</td>\n",
       "    </tr>\n",
       "    <tr>\n",
       "      <th>11265</th>\n",
       "      <td>1</td>\n",
       "      <td>YÊU CẦU TIKI DÁN TEM HÀNG DỂ VỠ, mua bia về là...</td>\n",
       "    </tr>\n",
       "    <tr>\n",
       "      <th>11266</th>\n",
       "      <td>1</td>\n",
       "      <td>yêu cầu tiki làm việc với bên vận chuyển giao ...</td>\n",
       "    </tr>\n",
       "    <tr>\n",
       "      <th>11267</th>\n",
       "      <td>1</td>\n",
       "      <td>yêu câu tiki xác nhận có đúng chính xác là ino...</td>\n",
       "    </tr>\n",
       "    <tr>\n",
       "      <th>11268</th>\n",
       "      <td>1</td>\n",
       "      <td>yêu câu tiki xác nhận có đúng chính xác là ino...</td>\n",
       "    </tr>\n",
       "  </tbody>\n",
       "</table>\n",
       "<p>11269 rows × 2 columns</p>\n",
       "</div>"
      ],
      "text/plain": [
       "       Rating                                            Content\n",
       "0           5  1234570000000000120924793754905402008253644144...\n",
       "1           5  \"Cuộc hành trình ngàn dặm nào cũng phải bắt đầ...\n",
       "2           5  *Thật sự rất đáng tiền khi mua cuốn sách này đ...\n",
       "3           5                                                  ,\n",
       "4           5                                                  .\n",
       "...       ...                                                ...\n",
       "11264       1     yêu cầu shop xác nhận đơn hàng dùm lâu quá rồi\n",
       "11265       1  YÊU CẦU TIKI DÁN TEM HÀNG DỂ VỠ, mua bia về là...\n",
       "11266       1  yêu cầu tiki làm việc với bên vận chuyển giao ...\n",
       "11267       1  yêu câu tiki xác nhận có đúng chính xác là ino...\n",
       "11268       1  yêu câu tiki xác nhận có đúng chính xác là ino...\n",
       "\n",
       "[11269 rows x 2 columns]"
      ]
     },
     "execution_count": 14,
     "metadata": {},
     "output_type": "execute_result"
    }
   ],
   "source": [
    "df"
   ]
  },
  {
   "cell_type": "code",
   "execution_count": 35,
   "id": "remarkable-correction",
   "metadata": {},
   "outputs": [
    {
     "name": "stdout",
     "output_type": "stream",
     "text": [
      "Collecting vncorenlp\n",
      "  Downloading vncorenlp-1.0.3.tar.gz (2.6 MB)\n",
      "\u001b[2K     \u001b[38;2;114;156;31m━━━━━━━━━━━━━━━━━━━━━━━━━━━━━━━━━━━━━━━━\u001b[0m \u001b[32m2.6/2.6 MB\u001b[0m \u001b[31m396.2 kB/s\u001b[0m eta \u001b[36m0:00:00\u001b[0mm eta \u001b[36m0:00:01\u001b[0m[36m0:00:01\u001b[0m\n",
      "\u001b[?25h  Preparing metadata (setup.py) ... \u001b[?25ldone\n",
      "\u001b[?25hRequirement already satisfied: requests in /home/dh2409/miniconda3/envs/pDL/lib/python3.8/site-packages (from vncorenlp) (2.25.1)\n",
      "Requirement already satisfied: urllib3<1.27,>=1.21.1 in /home/dh2409/miniconda3/envs/pDL/lib/python3.8/site-packages (from requests->vncorenlp) (1.26.4)\n",
      "Requirement already satisfied: chardet<5,>=3.0.2 in /home/dh2409/miniconda3/envs/pDL/lib/python3.8/site-packages (from requests->vncorenlp) (4.0.0)\n",
      "Requirement already satisfied: certifi>=2017.4.17 in /home/dh2409/miniconda3/envs/pDL/lib/python3.8/site-packages (from requests->vncorenlp) (2020.12.5)\n",
      "Requirement already satisfied: idna<3,>=2.5 in /home/dh2409/miniconda3/envs/pDL/lib/python3.8/site-packages (from requests->vncorenlp) (2.10)\n",
      "Building wheels for collected packages: vncorenlp\n",
      "  Building wheel for vncorenlp (setup.py) ... \u001b[?25ldone\n",
      "\u001b[?25h  Created wheel for vncorenlp: filename=vncorenlp-1.0.3-py3-none-any.whl size=2645952 sha256=a0fc2a32cecd75db64440b2e1586423b5ce344f853925f7baa012605fdddcf32\n",
      "  Stored in directory: /home/dh2409/.cache/pip/wheels/3c/e9/86/706911c12e307aeb9a2702399f0dad38d36f1d6f9dde8af35e\n",
      "Successfully built vncorenlp\n",
      "Installing collected packages: vncorenlp\n",
      "Successfully installed vncorenlp-1.0.3\n"
     ]
    }
   ],
   "source": [
    "!pip install vncorenlp"
   ]
  },
  {
   "cell_type": "code",
   "execution_count": 36,
   "id": "artificial-reform",
   "metadata": {},
   "outputs": [],
   "source": [
    "from vncorenlp import VnCoreNLP"
   ]
  },
  {
   "cell_type": "code",
   "execution_count": 37,
   "id": "extraordinary-force",
   "metadata": {},
   "outputs": [],
   "source": [
    "rdrsegmenter = VnCoreNLP(\"VnCoreNLP/VnCoreNLP-1.1.1.jar\", annotators=\"wseg\", max_heap_size='-Xmx500m') "
   ]
  },
  {
   "cell_type": "code",
   "execution_count": 38,
   "id": "enormous-jersey",
   "metadata": {},
   "outputs": [],
   "source": [
    "def segment_text(batch):\n",
    "    batch = rdrsegmenter.tokenize(batch)\n",
    "    if len(batch) == 0:\n",
    "        return \"\"\n",
    "    else:\n",
    "        return \" \".join(batch[0]).strip()"
   ]
  },
  {
   "cell_type": "code",
   "execution_count": 39,
   "id": "baking-aquarium",
   "metadata": {},
   "outputs": [],
   "source": [
    "df['Content'] = df['Content'].apply(segment_text)"
   ]
  },
  {
   "cell_type": "code",
   "execution_count": 40,
   "id": "laughing-kernel",
   "metadata": {},
   "outputs": [
    {
     "data": {
      "text/html": [
       "<div>\n",
       "<style scoped>\n",
       "    .dataframe tbody tr th:only-of-type {\n",
       "        vertical-align: middle;\n",
       "    }\n",
       "\n",
       "    .dataframe tbody tr th {\n",
       "        vertical-align: top;\n",
       "    }\n",
       "\n",
       "    .dataframe thead th {\n",
       "        text-align: right;\n",
       "    }\n",
       "</style>\n",
       "<table border=\"1\" class=\"dataframe\">\n",
       "  <thead>\n",
       "    <tr style=\"text-align: right;\">\n",
       "      <th></th>\n",
       "      <th>Rating</th>\n",
       "      <th>Content</th>\n",
       "    </tr>\n",
       "  </thead>\n",
       "  <tbody>\n",
       "    <tr>\n",
       "      <th>0</th>\n",
       "      <td>5</td>\n",
       "      <td></td>\n",
       "    </tr>\n",
       "    <tr>\n",
       "      <th>1</th>\n",
       "      <td>5</td>\n",
       "      <td>cuộc hành_trình ngàn dặm nào cũng phải bắt_đầu...</td>\n",
       "    </tr>\n",
       "    <tr>\n",
       "      <th>2</th>\n",
       "      <td>5</td>\n",
       "      <td>thật_sự rất đáng tiền khi mua cuốn sách này để...</td>\n",
       "    </tr>\n",
       "    <tr>\n",
       "      <th>3</th>\n",
       "      <td>5</td>\n",
       "      <td></td>\n",
       "    </tr>\n",
       "    <tr>\n",
       "      <th>4</th>\n",
       "      <td>5</td>\n",
       "      <td></td>\n",
       "    </tr>\n",
       "    <tr>\n",
       "      <th>...</th>\n",
       "      <td>...</td>\n",
       "      <td>...</td>\n",
       "    </tr>\n",
       "    <tr>\n",
       "      <th>11264</th>\n",
       "      <td>1</td>\n",
       "      <td>yêu_cầu shop xác_nhận đơn hàng dùm lâu quá rồi</td>\n",
       "    </tr>\n",
       "    <tr>\n",
       "      <th>11265</th>\n",
       "      <td>1</td>\n",
       "      <td>yêu_cầu tiki dán tem hàng dể vỡ mua bia về làm...</td>\n",
       "    </tr>\n",
       "    <tr>\n",
       "      <th>11266</th>\n",
       "      <td>1</td>\n",
       "      <td>yêu_cầu tiki làm_việc với bên vận_chuyển giao ...</td>\n",
       "    </tr>\n",
       "    <tr>\n",
       "      <th>11267</th>\n",
       "      <td>1</td>\n",
       "      <td>yêu câu tiki xác_nhận có đúng chính_xác là ino...</td>\n",
       "    </tr>\n",
       "    <tr>\n",
       "      <th>11268</th>\n",
       "      <td>1</td>\n",
       "      <td>yêu câu tiki xác_nhận có đúng chính_xác là ino...</td>\n",
       "    </tr>\n",
       "  </tbody>\n",
       "</table>\n",
       "<p>11269 rows × 2 columns</p>\n",
       "</div>"
      ],
      "text/plain": [
       "       Rating                                            Content\n",
       "0           5                                                   \n",
       "1           5  cuộc hành_trình ngàn dặm nào cũng phải bắt_đầu...\n",
       "2           5  thật_sự rất đáng tiền khi mua cuốn sách này để...\n",
       "3           5                                                   \n",
       "4           5                                                   \n",
       "...       ...                                                ...\n",
       "11264       1     yêu_cầu shop xác_nhận đơn hàng dùm lâu quá rồi\n",
       "11265       1  yêu_cầu tiki dán tem hàng dể vỡ mua bia về làm...\n",
       "11266       1  yêu_cầu tiki làm_việc với bên vận_chuyển giao ...\n",
       "11267       1  yêu câu tiki xác_nhận có đúng chính_xác là ino...\n",
       "11268       1  yêu câu tiki xác_nhận có đúng chính_xác là ino...\n",
       "\n",
       "[11269 rows x 2 columns]"
      ]
     },
     "execution_count": 40,
     "metadata": {},
     "output_type": "execute_result"
    }
   ],
   "source": [
    "df"
   ]
  },
  {
   "cell_type": "code",
   "execution_count": 41,
   "id": "lonely-drink",
   "metadata": {},
   "outputs": [],
   "source": [
    "import numpy as np\n",
    "indices = np.where(df['Content'] == \"\")"
   ]
  },
  {
   "cell_type": "code",
   "execution_count": 42,
   "id": "varying-compound",
   "metadata": {},
   "outputs": [
    {
     "data": {
      "text/plain": [
       "(array([    0,     3,     4,     5,     7,     9,    11,    16,    19,\n",
       "           44,   572,  1578,  1739,  2590,  3425,  4406,  4407,  4556,\n",
       "         4879,  4880,  4883,  4936,  5319,  6697,  6758,  7332,  7333,\n",
       "         7741,  7742,  7743,  7744,  7745,  7746,  7747,  7750,  7751,\n",
       "         7752,  7761,  8550,  8941,  8967,  9568,  9569,  9632, 10253]),)"
      ]
     },
     "execution_count": 42,
     "metadata": {},
     "output_type": "execute_result"
    }
   ],
   "source": [
    "indices"
   ]
  },
  {
   "cell_type": "code",
   "execution_count": 43,
   "id": "spanish-hollow",
   "metadata": {},
   "outputs": [],
   "source": [
    "df.drop(indices[0],axis=0,inplace=True)"
   ]
  },
  {
   "cell_type": "code",
   "execution_count": 47,
   "id": "interesting-invalid",
   "metadata": {},
   "outputs": [],
   "source": [
    "df['label'] = df['Rating'].apply(lambda x : 1 if x > 3 else 0)"
   ]
  },
  {
   "cell_type": "code",
   "execution_count": 52,
   "id": "japanese-airline",
   "metadata": {},
   "outputs": [],
   "source": [
    "df.reset_index(inplace=True, drop=True)"
   ]
  },
  {
   "cell_type": "code",
   "execution_count": 53,
   "id": "utility-tribute",
   "metadata": {},
   "outputs": [
    {
     "data": {
      "text/html": [
       "<div>\n",
       "<style scoped>\n",
       "    .dataframe tbody tr th:only-of-type {\n",
       "        vertical-align: middle;\n",
       "    }\n",
       "\n",
       "    .dataframe tbody tr th {\n",
       "        vertical-align: top;\n",
       "    }\n",
       "\n",
       "    .dataframe thead th {\n",
       "        text-align: right;\n",
       "    }\n",
       "</style>\n",
       "<table border=\"1\" class=\"dataframe\">\n",
       "  <thead>\n",
       "    <tr style=\"text-align: right;\">\n",
       "      <th></th>\n",
       "      <th>Rating</th>\n",
       "      <th>Content</th>\n",
       "      <th>label</th>\n",
       "    </tr>\n",
       "  </thead>\n",
       "  <tbody>\n",
       "    <tr>\n",
       "      <th>0</th>\n",
       "      <td>5</td>\n",
       "      <td>cuộc hành_trình ngàn dặm nào cũng phải bắt_đầu...</td>\n",
       "      <td>1</td>\n",
       "    </tr>\n",
       "    <tr>\n",
       "      <th>1</th>\n",
       "      <td>5</td>\n",
       "      <td>thật_sự rất đáng tiền khi mua cuốn sách này để...</td>\n",
       "      <td>1</td>\n",
       "    </tr>\n",
       "    <tr>\n",
       "      <th>2</th>\n",
       "      <td>5</td>\n",
       "      <td>khá đẹp và dễ dùng</td>\n",
       "      <td>1</td>\n",
       "    </tr>\n",
       "    <tr>\n",
       "      <th>3</th>\n",
       "      <td>5</td>\n",
       "      <td>bút dùng tốt màu_sắc đẹp đáng giánên mua</td>\n",
       "      <td>1</td>\n",
       "    </tr>\n",
       "    <tr>\n",
       "      <th>4</th>\n",
       "      <td>5</td>\n",
       "      <td>shipper giao hơi muộn tí thôi nha</td>\n",
       "      <td>1</td>\n",
       "    </tr>\n",
       "    <tr>\n",
       "      <th>...</th>\n",
       "      <td>...</td>\n",
       "      <td>...</td>\n",
       "      <td>...</td>\n",
       "    </tr>\n",
       "    <tr>\n",
       "      <th>11219</th>\n",
       "      <td>1</td>\n",
       "      <td>yêu_cầu shop xác_nhận đơn hàng dùm lâu quá rồi</td>\n",
       "      <td>0</td>\n",
       "    </tr>\n",
       "    <tr>\n",
       "      <th>11220</th>\n",
       "      <td>1</td>\n",
       "      <td>yêu_cầu tiki dán tem hàng dể vỡ mua bia về làm...</td>\n",
       "      <td>0</td>\n",
       "    </tr>\n",
       "    <tr>\n",
       "      <th>11221</th>\n",
       "      <td>1</td>\n",
       "      <td>yêu_cầu tiki làm_việc với bên vận_chuyển giao ...</td>\n",
       "      <td>0</td>\n",
       "    </tr>\n",
       "    <tr>\n",
       "      <th>11222</th>\n",
       "      <td>1</td>\n",
       "      <td>yêu câu tiki xác_nhận có đúng chính_xác là ino...</td>\n",
       "      <td>0</td>\n",
       "    </tr>\n",
       "    <tr>\n",
       "      <th>11223</th>\n",
       "      <td>1</td>\n",
       "      <td>yêu câu tiki xác_nhận có đúng chính_xác là ino...</td>\n",
       "      <td>0</td>\n",
       "    </tr>\n",
       "  </tbody>\n",
       "</table>\n",
       "<p>11224 rows × 3 columns</p>\n",
       "</div>"
      ],
      "text/plain": [
       "       Rating                                            Content  label\n",
       "0           5  cuộc hành_trình ngàn dặm nào cũng phải bắt_đầu...      1\n",
       "1           5  thật_sự rất đáng tiền khi mua cuốn sách này để...      1\n",
       "2           5                                 khá đẹp và dễ dùng      1\n",
       "3           5           bút dùng tốt màu_sắc đẹp đáng giánên mua      1\n",
       "4           5                  shipper giao hơi muộn tí thôi nha      1\n",
       "...       ...                                                ...    ...\n",
       "11219       1     yêu_cầu shop xác_nhận đơn hàng dùm lâu quá rồi      0\n",
       "11220       1  yêu_cầu tiki dán tem hàng dể vỡ mua bia về làm...      0\n",
       "11221       1  yêu_cầu tiki làm_việc với bên vận_chuyển giao ...      0\n",
       "11222       1  yêu câu tiki xác_nhận có đúng chính_xác là ino...      0\n",
       "11223       1  yêu câu tiki xác_nhận có đúng chính_xác là ino...      0\n",
       "\n",
       "[11224 rows x 3 columns]"
      ]
     },
     "execution_count": 53,
     "metadata": {},
     "output_type": "execute_result"
    }
   ],
   "source": [
    "df"
   ]
  },
  {
   "cell_type": "code",
   "execution_count": 54,
   "id": "cardiovascular-orchestra",
   "metadata": {},
   "outputs": [],
   "source": [
    "train_dataset = df.sample(frac=0.7,random_state=42)\n",
    "test_dataset = df.drop(train_dataset.index)"
   ]
  },
  {
   "cell_type": "code",
   "execution_count": 55,
   "id": "private-livestock",
   "metadata": {},
   "outputs": [
    {
     "data": {
      "text/html": [
       "<div>\n",
       "<style scoped>\n",
       "    .dataframe tbody tr th:only-of-type {\n",
       "        vertical-align: middle;\n",
       "    }\n",
       "\n",
       "    .dataframe tbody tr th {\n",
       "        vertical-align: top;\n",
       "    }\n",
       "\n",
       "    .dataframe thead th {\n",
       "        text-align: right;\n",
       "    }\n",
       "</style>\n",
       "<table border=\"1\" class=\"dataframe\">\n",
       "  <thead>\n",
       "    <tr style=\"text-align: right;\">\n",
       "      <th></th>\n",
       "      <th>Rating</th>\n",
       "      <th>Content</th>\n",
       "      <th>label</th>\n",
       "    </tr>\n",
       "  </thead>\n",
       "  <tbody>\n",
       "    <tr>\n",
       "      <th>4024</th>\n",
       "      <td>5</td>\n",
       "      <td>mình mua của tiki sp này từ năm_ngoái sinh em ...</td>\n",
       "      <td>1</td>\n",
       "    </tr>\n",
       "    <tr>\n",
       "      <th>9810</th>\n",
       "      <td>3</td>\n",
       "      <td>hô sa phâ không co nguyên ve bi mo me xâ</td>\n",
       "      <td>0</td>\n",
       "    </tr>\n",
       "    <tr>\n",
       "      <th>4682</th>\n",
       "      <td>5</td>\n",
       "      <td>nồi xài ok lắm hầm thịt cực_kì nhanh nhừ kết_c...</td>\n",
       "      <td>1</td>\n",
       "    </tr>\n",
       "    <tr>\n",
       "      <th>8821</th>\n",
       "      <td>4</td>\n",
       "      <td>này thì cũng được bị cái thời_gian nấu hơi lâu...</td>\n",
       "      <td>1</td>\n",
       "    </tr>\n",
       "    <tr>\n",
       "      <th>1501</th>\n",
       "      <td>5</td>\n",
       "      <td>đóng_gói kĩ nhân_viên giao hàng nhanh nhiệt_tì...</td>\n",
       "      <td>1</td>\n",
       "    </tr>\n",
       "    <tr>\n",
       "      <th>...</th>\n",
       "      <td>...</td>\n",
       "      <td>...</td>\n",
       "      <td>...</td>\n",
       "    </tr>\n",
       "    <tr>\n",
       "      <th>6683</th>\n",
       "      <td>5</td>\n",
       "      <td>tai nghe chụp tai này đẹp kèm cáp chuyển_đổi â...</td>\n",
       "      <td>1</td>\n",
       "    </tr>\n",
       "    <tr>\n",
       "      <th>3871</th>\n",
       "      <td>5</td>\n",
       "      <td>mèo rất thích ăn đòi ăn suốt ngày</td>\n",
       "      <td>1</td>\n",
       "    </tr>\n",
       "    <tr>\n",
       "      <th>7310</th>\n",
       "      <td>5</td>\n",
       "      <td>trang bán hàng uy_tín nhất nếu thêm nhiều chươ...</td>\n",
       "      <td>1</td>\n",
       "    </tr>\n",
       "    <tr>\n",
       "      <th>3402</th>\n",
       "      <td>5</td>\n",
       "      <td>rất hài_lòng</td>\n",
       "      <td>1</td>\n",
       "    </tr>\n",
       "    <tr>\n",
       "      <th>4529</th>\n",
       "      <td>5</td>\n",
       "      <td>nhanh full seal tốt cho sao nha</td>\n",
       "      <td>1</td>\n",
       "    </tr>\n",
       "  </tbody>\n",
       "</table>\n",
       "<p>7857 rows × 3 columns</p>\n",
       "</div>"
      ],
      "text/plain": [
       "      Rating                                            Content  label\n",
       "4024       5  mình mua của tiki sp này từ năm_ngoái sinh em ...      1\n",
       "9810       3           hô sa phâ không co nguyên ve bi mo me xâ      0\n",
       "4682       5  nồi xài ok lắm hầm thịt cực_kì nhanh nhừ kết_c...      1\n",
       "8821       4  này thì cũng được bị cái thời_gian nấu hơi lâu...      1\n",
       "1501       5  đóng_gói kĩ nhân_viên giao hàng nhanh nhiệt_tì...      1\n",
       "...      ...                                                ...    ...\n",
       "6683       5  tai nghe chụp tai này đẹp kèm cáp chuyển_đổi â...      1\n",
       "3871       5                  mèo rất thích ăn đòi ăn suốt ngày      1\n",
       "7310       5  trang bán hàng uy_tín nhất nếu thêm nhiều chươ...      1\n",
       "3402       5                                       rất hài_lòng      1\n",
       "4529       5                    nhanh full seal tốt cho sao nha      1\n",
       "\n",
       "[7857 rows x 3 columns]"
      ]
     },
     "execution_count": 55,
     "metadata": {},
     "output_type": "execute_result"
    }
   ],
   "source": [
    "train_dataset"
   ]
  },
  {
   "cell_type": "code",
   "execution_count": 57,
   "id": "union-albert",
   "metadata": {},
   "outputs": [],
   "source": [
    "train_dataset[['Content','label']].to_csv('train.csv',index=False)\n",
    "test_dataset[['Content','label']].to_csv('test.csv',index=False)"
   ]
  },
  {
   "cell_type": "code",
   "execution_count": 58,
   "id": "improving-source",
   "metadata": {},
   "outputs": [
    {
     "name": "stderr",
     "output_type": "stream",
     "text": [
      "Special tokens have been added in the vocabulary, make sure the associated word embeddings are fine-tuned or trained.\n"
     ]
    }
   ],
   "source": [
    "from transformers import AutoModel, AutoTokenizer, DataCollatorWithPadding, AutoModelForSequenceClassification,TrainingArguments, Trainer\n",
    "from datasets import load_dataset\n",
    "\n",
    "tokenizer = AutoTokenizer.from_pretrained(\"vinai/phobert-base\")\n",
    "\n",
    "def prepare_dataset(batch):\n",
    "    batch_ = tokenizer(batch[\"Content\"], padding=True, truncation=True)\n",
    "    batch_['labels'] = batch['label']\n",
    "    return batch_"
   ]
  },
  {
   "cell_type": "code",
   "execution_count": 60,
   "id": "dimensional-station",
   "metadata": {},
   "outputs": [
    {
     "name": "stderr",
     "output_type": "stream",
     "text": [
      "Using custom data configuration default-efe6183dcc17a0c1\n"
     ]
    },
    {
     "name": "stdout",
     "output_type": "stream",
     "text": [
      "Downloading and preparing dataset csv/default to /home/dh2409/.cache/huggingface/datasets/csv/default-efe6183dcc17a0c1/0.0.0/433e0ccc46f9880962cc2b12065189766fbb2bee57a221866138fb9203c83519...\n"
     ]
    },
    {
     "data": {
      "application/vnd.jupyter.widget-view+json": {
       "model_id": "551c3b015db44ac499b77409594d07de",
       "version_major": 2,
       "version_minor": 0
      },
      "text/plain": [
       "Downloading data files:   0%|          | 0/2 [00:00<?, ?it/s]"
      ]
     },
     "metadata": {},
     "output_type": "display_data"
    },
    {
     "data": {
      "application/vnd.jupyter.widget-view+json": {
       "model_id": "fcd49e397c1243d58079790bda4da300",
       "version_major": 2,
       "version_minor": 0
      },
      "text/plain": [
       "Extracting data files:   0%|          | 0/2 [00:00<?, ?it/s]"
      ]
     },
     "metadata": {},
     "output_type": "display_data"
    },
    {
     "name": "stderr",
     "output_type": "stream",
     "text": [
      "/home/dh2409/miniconda3/envs/pDL/lib/python3.8/site-packages/datasets/packaged_modules/csv/csv.py:154: FutureWarning: the 'mangle_dupe_cols' keyword is deprecated and will be removed in a future version. Please take steps to stop the use of 'mangle_dupe_cols'\n",
      "  csv_file_reader = pd.read_csv(file, iterator=True, dtype=dtype, **self.config.read_csv_kwargs)\n"
     ]
    },
    {
     "name": "stdout",
     "output_type": "stream",
     "text": [
      "Dataset csv downloaded and prepared to /home/dh2409/.cache/huggingface/datasets/csv/default-efe6183dcc17a0c1/0.0.0/433e0ccc46f9880962cc2b12065189766fbb2bee57a221866138fb9203c83519. Subsequent calls will reuse this data.\n"
     ]
    },
    {
     "name": "stderr",
     "output_type": "stream",
     "text": [
      "/home/dh2409/miniconda3/envs/pDL/lib/python3.8/site-packages/datasets/packaged_modules/csv/csv.py:154: FutureWarning: the 'mangle_dupe_cols' keyword is deprecated and will be removed in a future version. Please take steps to stop the use of 'mangle_dupe_cols'\n",
      "  csv_file_reader = pd.read_csv(file, iterator=True, dtype=dtype, **self.config.read_csv_kwargs)\n"
     ]
    },
    {
     "data": {
      "application/vnd.jupyter.widget-view+json": {
       "model_id": "c68b4acf7ef94d11a61f213eaabade52",
       "version_major": 2,
       "version_minor": 0
      },
      "text/plain": [
       "  0%|          | 0/2 [00:00<?, ?it/s]"
      ]
     },
     "metadata": {},
     "output_type": "display_data"
    },
    {
     "name": "stdout",
     "output_type": "stream",
     "text": [
      "              "
     ]
    },
    {
     "data": {
      "application/vnd.jupyter.widget-view+json": {
       "model_id": "4e80ec9ac4eb4bc6a8035538cf3809d4",
       "version_major": 2,
       "version_minor": 0
      },
      "text/plain": [
       "#0:   0%|          | 0/246 [00:00<?, ?ba/s]"
      ]
     },
     "metadata": {},
     "output_type": "display_data"
    },
    {
     "data": {
      "application/vnd.jupyter.widget-view+json": {
       "model_id": "abaa7909af494fdf88220861f5d4f805",
       "version_major": 2,
       "version_minor": 0
      },
      "text/plain": [
       "#1:   0%|          | 0/246 [00:00<?, ?ba/s]"
      ]
     },
     "metadata": {},
     "output_type": "display_data"
    },
    {
     "data": {
      "application/vnd.jupyter.widget-view+json": {
       "model_id": "d484ac90ed8d4d4ba65e0667102c9d4c",
       "version_major": 2,
       "version_minor": 0
      },
      "text/plain": [
       "#2:   0%|          | 0/246 [00:00<?, ?ba/s]"
      ]
     },
     "metadata": {},
     "output_type": "display_data"
    },
    {
     "data": {
      "application/vnd.jupyter.widget-view+json": {
       "model_id": "da9d26e2e4e643d2bc715719054d2898",
       "version_major": 2,
       "version_minor": 0
      },
      "text/plain": [
       "#6:   0%|          | 0/246 [00:00<?, ?ba/s]"
      ]
     },
     "metadata": {},
     "output_type": "display_data"
    },
    {
     "name": "stdout",
     "output_type": "stream",
     "text": [
      " "
     ]
    },
    {
     "data": {
      "application/vnd.jupyter.widget-view+json": {
       "model_id": "027916381b4d43be8a44e184327e19af",
       "version_major": 2,
       "version_minor": 0
      },
      "text/plain": [
       "#5:   0%|          | 0/246 [00:00<?, ?ba/s]"
      ]
     },
     "metadata": {},
     "output_type": "display_data"
    },
    {
     "data": {
      "application/vnd.jupyter.widget-view+json": {
       "model_id": "d962cf8149b643838478eda31cf17a30",
       "version_major": 2,
       "version_minor": 0
      },
      "text/plain": [
       "#4:   0%|          | 0/246 [00:00<?, ?ba/s]"
      ]
     },
     "metadata": {},
     "output_type": "display_data"
    },
    {
     "name": "stdout",
     "output_type": "stream",
     "text": [
      " "
     ]
    },
    {
     "data": {
      "application/vnd.jupyter.widget-view+json": {
       "model_id": "a00f04004a6e49efabfdd314afa39f2a",
       "version_major": 2,
       "version_minor": 0
      },
      "text/plain": [
       "#3:   0%|          | 0/246 [00:00<?, ?ba/s]"
      ]
     },
     "metadata": {},
     "output_type": "display_data"
    },
    {
     "data": {
      "application/vnd.jupyter.widget-view+json": {
       "model_id": "ae8f5540bdeb49d2be972117ffad398d",
       "version_major": 2,
       "version_minor": 0
      },
      "text/plain": [
       "#7:   0%|          | 0/246 [00:00<?, ?ba/s]"
      ]
     },
     "metadata": {},
     "output_type": "display_data"
    },
    {
     "name": "stdout",
     "output_type": "stream",
     "text": [
      "              "
     ]
    },
    {
     "data": {
      "application/vnd.jupyter.widget-view+json": {
       "model_id": "c1cbc4ff5eef402da8d61bad2b55e5dd",
       "version_major": 2,
       "version_minor": 0
      },
      "text/plain": [
       "#0:   0%|          | 0/106 [00:00<?, ?ba/s]"
      ]
     },
     "metadata": {},
     "output_type": "display_data"
    },
    {
     "name": "stdout",
     "output_type": "stream",
     "text": [
      " "
     ]
    },
    {
     "data": {
      "application/vnd.jupyter.widget-view+json": {
       "model_id": "9838009bda4c49c490bcc04ec302151e",
       "version_major": 2,
       "version_minor": 0
      },
      "text/plain": [
       "#1:   0%|          | 0/106 [00:00<?, ?ba/s]"
      ]
     },
     "metadata": {},
     "output_type": "display_data"
    },
    {
     "data": {
      "application/vnd.jupyter.widget-view+json": {
       "model_id": "299d478050e64bbb840a17974bcc63ea",
       "version_major": 2,
       "version_minor": 0
      },
      "text/plain": [
       "#2:   0%|          | 0/106 [00:00<?, ?ba/s]"
      ]
     },
     "metadata": {},
     "output_type": "display_data"
    },
    {
     "name": "stdout",
     "output_type": "stream",
     "text": [
      " "
     ]
    },
    {
     "data": {
      "application/vnd.jupyter.widget-view+json": {
       "model_id": "d2038d61319b452b9d9b933b3ac51f33",
       "version_major": 2,
       "version_minor": 0
      },
      "text/plain": [
       "#6:   0%|          | 0/106 [00:00<?, ?ba/s]"
      ]
     },
     "metadata": {},
     "output_type": "display_data"
    },
    {
     "data": {
      "application/vnd.jupyter.widget-view+json": {
       "model_id": "61c0e99df5e946d79119aed520b26c8f",
       "version_major": 2,
       "version_minor": 0
      },
      "text/plain": [
       "#4:   0%|          | 0/106 [00:00<?, ?ba/s]"
      ]
     },
     "metadata": {},
     "output_type": "display_data"
    },
    {
     "data": {
      "application/vnd.jupyter.widget-view+json": {
       "model_id": "730237b2fb0242e08aab5a4ceb758ec7",
       "version_major": 2,
       "version_minor": 0
      },
      "text/plain": [
       "#7:   0%|          | 0/105 [00:00<?, ?ba/s]"
      ]
     },
     "metadata": {},
     "output_type": "display_data"
    },
    {
     "data": {
      "application/vnd.jupyter.widget-view+json": {
       "model_id": "5083daa2f7034cbc8b96c6cc64bd16f0",
       "version_major": 2,
       "version_minor": 0
      },
      "text/plain": [
       "#5:   0%|          | 0/106 [00:00<?, ?ba/s]"
      ]
     },
     "metadata": {},
     "output_type": "display_data"
    },
    {
     "data": {
      "application/vnd.jupyter.widget-view+json": {
       "model_id": "a4f23e223d134bd1b229f8a7c16e9004",
       "version_major": 2,
       "version_minor": 0
      },
      "text/plain": [
       "#3:   0%|          | 0/106 [00:00<?, ?ba/s]"
      ]
     },
     "metadata": {},
     "output_type": "display_data"
    },
    {
     "data": {
      "application/vnd.jupyter.widget-view+json": {
       "model_id": "d27aaee3e1ca41a39c672647bf5a37aa",
       "version_major": 2,
       "version_minor": 0
      },
      "text/plain": [
       "Downloading:   0%|          | 0.00/518M [00:00<?, ?B/s]"
      ]
     },
     "metadata": {},
     "output_type": "display_data"
    },
    {
     "name": "stderr",
     "output_type": "stream",
     "text": [
      "Some weights of the model checkpoint at vinai/phobert-base were not used when initializing RobertaForSequenceClassification: ['roberta.pooler.dense.weight', 'lm_head.decoder.bias', 'lm_head.decoder.weight', 'lm_head.bias', 'lm_head.dense.bias', 'roberta.pooler.dense.bias', 'lm_head.layer_norm.weight', 'lm_head.layer_norm.bias', 'lm_head.dense.weight']\n",
      "- This IS expected if you are initializing RobertaForSequenceClassification from the checkpoint of a model trained on another task or with another architecture (e.g. initializing a BertForSequenceClassification model from a BertForPreTraining model).\n",
      "- This IS NOT expected if you are initializing RobertaForSequenceClassification from the checkpoint of a model that you expect to be exactly identical (initializing a BertForSequenceClassification model from a BertForSequenceClassification model).\n",
      "Some weights of RobertaForSequenceClassification were not initialized from the model checkpoint at vinai/phobert-base and are newly initialized: ['classifier.dense.bias', 'classifier.out_proj.bias', 'classifier.dense.weight', 'classifier.out_proj.weight']\n",
      "You should probably TRAIN this model on a down-stream task to be able to use it for predictions and inference.\n",
      "/home/dh2409/miniconda3/envs/pDL/lib/python3.8/site-packages/transformers/optimization.py:306: FutureWarning: This implementation of AdamW is deprecated and will be removed in a future version. Use the PyTorch implementation torch.optim.AdamW instead, or set `no_deprecation_warning=True` to disable this warning\n",
      "  warnings.warn(\n",
      "***** Running training *****\n",
      "  Num examples = 7857\n",
      "  Num Epochs = 5\n",
      "  Instantaneous batch size per device = 4\n",
      "  Total train batch size (w. parallel, distributed & accumulation) = 4\n",
      "  Gradient Accumulation steps = 1\n",
      "  Total optimization steps = 9825\n"
     ]
    },
    {
     "ename": "RuntimeError",
     "evalue": "CUDA out of memory. Tried to allocate 20.00 MiB (GPU 0; 1.96 GiB total capacity; 887.27 MiB already allocated; 6.19 MiB free; 924.00 MiB reserved in total by PyTorch) (malloc at /pytorch/c10/cuda/CUDACachingAllocator.cpp:289)\nframe #0: c10::Error::Error(c10::SourceLocation, std::string const&) + 0x46 (0x7f5298889536 in /home/dh2409/miniconda3/envs/pDL/lib/python3.8/site-packages/torch/lib/libc10.so)\nframe #1: <unknown function> + 0x1cf1e (0x7f5298ad2f1e in /home/dh2409/miniconda3/envs/pDL/lib/python3.8/site-packages/torch/lib/libc10_cuda.so)\nframe #2: <unknown function> + 0x1df9e (0x7f5298ad3f9e in /home/dh2409/miniconda3/envs/pDL/lib/python3.8/site-packages/torch/lib/libc10_cuda.so)\nframe #3: THCStorage_resize + 0x96 (0x7f5249ab53d6 in /home/dh2409/miniconda3/envs/pDL/lib/python3.8/site-packages/torch/lib/libtorch_cuda.so)\nframe #4: at::native::(anonymous namespace)::resize_cuda_(at::Tensor&, c10::ArrayRef<long>, c10::optional<c10::MemoryFormat>) + 0x9aa (0x7f524b2d8e4a in /home/dh2409/miniconda3/envs/pDL/lib/python3.8/site-packages/torch/lib/libtorch_cuda.so)\nframe #5: <unknown function> + 0x2887de3 (0x7f524b2d9de3 in /home/dh2409/miniconda3/envs/pDL/lib/python3.8/site-packages/torch/lib/libtorch_cuda.so)\nframe #6: <unknown function> + 0xf0ffe2 (0x7f5249961fe2 in /home/dh2409/miniconda3/envs/pDL/lib/python3.8/site-packages/torch/lib/libtorch_cuda.so)\nframe #7: <unknown function> + 0x1041be6 (0x7f5249a93be6 in /home/dh2409/miniconda3/envs/pDL/lib/python3.8/site-packages/torch/lib/libtorch_cuda.so)\nframe #8: <unknown function> + 0xf65018 (0x7f52499b7018 in /home/dh2409/miniconda3/envs/pDL/lib/python3.8/site-packages/torch/lib/libtorch_cuda.so)\nframe #9: <unknown function> + 0x10c2780 (0x7f5286326780 in /home/dh2409/miniconda3/envs/pDL/lib/python3.8/site-packages/torch/lib/libtorch_cpu.so)\nframe #10: <unknown function> + 0x2c9b47e (0x7f5287eff47e in /home/dh2409/miniconda3/envs/pDL/lib/python3.8/site-packages/torch/lib/libtorch_cpu.so)\nframe #11: <unknown function> + 0x10c2780 (0x7f5286326780 in /home/dh2409/miniconda3/envs/pDL/lib/python3.8/site-packages/torch/lib/libtorch_cpu.so)\nframe #12: at::Tensor::mm(at::Tensor const&) const + 0xf0 (0x7f5285ee9930 in /home/dh2409/miniconda3/envs/pDL/lib/python3.8/site-packages/torch/lib/libtorch_cpu.so)\nframe #13: <unknown function> + 0x28e6b5c (0x7f5287b4ab5c in /home/dh2409/miniconda3/envs/pDL/lib/python3.8/site-packages/torch/lib/libtorch_cpu.so)\nframe #14: torch::autograd::generated::MmBackward::apply(std::vector<at::Tensor, std::allocator<at::Tensor> >&&) + 0x151 (0x7f5287b4b961 in /home/dh2409/miniconda3/envs/pDL/lib/python3.8/site-packages/torch/lib/libtorch_cpu.so)\nframe #15: <unknown function> + 0x2d89705 (0x7f5287fed705 in /home/dh2409/miniconda3/envs/pDL/lib/python3.8/site-packages/torch/lib/libtorch_cpu.so)\nframe #16: torch::autograd::Engine::evaluate_function(std::shared_ptr<torch::autograd::GraphTask>&, torch::autograd::Node*, torch::autograd::InputBuffer&) + 0x16f3 (0x7f5287feaa03 in /home/dh2409/miniconda3/envs/pDL/lib/python3.8/site-packages/torch/lib/libtorch_cpu.so)\nframe #17: torch::autograd::Engine::thread_main(std::shared_ptr<torch::autograd::GraphTask> const&, bool) + 0x3d2 (0x7f5287feb7e2 in /home/dh2409/miniconda3/envs/pDL/lib/python3.8/site-packages/torch/lib/libtorch_cpu.so)\nframe #18: torch::autograd::Engine::thread_init(int) + 0x39 (0x7f5287fe3e59 in /home/dh2409/miniconda3/envs/pDL/lib/python3.8/site-packages/torch/lib/libtorch_cpu.so)\nframe #19: torch::autograd::python::PythonEngine::thread_init(int) + 0x38 (0x7f529960c5f8 in /home/dh2409/miniconda3/envs/pDL/lib/python3.8/site-packages/torch/lib/libtorch_python.so)\nframe #20: <unknown function> + 0xcc9d4 (0x7f52e88429d4 in /home/dh2409/miniconda3/envs/pDL/bin/../lib/libstdc++.so.6)\nframe #21: <unknown function> + 0x76db (0x7f52ebf196db in /lib/x86_64-linux-gnu/libpthread.so.0)\nframe #22: clone + 0x3f (0x7f52eb29561f in /lib/x86_64-linux-gnu/libc.so.6)\n",
     "output_type": "error",
     "traceback": [
      "\u001b[0;31m---------------------------------------------------------------------------\u001b[0m",
      "\u001b[0;31mRuntimeError\u001b[0m                              Traceback (most recent call last)",
      "\u001b[0;32m<ipython-input-60-8ddb06810628>\u001b[0m in \u001b[0;36m<module>\u001b[0;34m\u001b[0m\n\u001b[1;32m     26\u001b[0m )\n\u001b[1;32m     27\u001b[0m \u001b[0;34m\u001b[0m\u001b[0m\n\u001b[0;32m---> 28\u001b[0;31m \u001b[0mtrainer\u001b[0m\u001b[0;34m.\u001b[0m\u001b[0mtrain\u001b[0m\u001b[0;34m(\u001b[0m\u001b[0;34m)\u001b[0m\u001b[0;34m\u001b[0m\u001b[0;34m\u001b[0m\u001b[0m\n\u001b[0m",
      "\u001b[0;32m~/miniconda3/envs/pDL/lib/python3.8/site-packages/transformers/trainer.py\u001b[0m in \u001b[0;36mtrain\u001b[0;34m(self, resume_from_checkpoint, trial, ignore_keys_for_eval, **kwargs)\u001b[0m\n\u001b[1;32m   1315\u001b[0m             \u001b[0mself\u001b[0m\u001b[0;34m.\u001b[0m\u001b[0m_inner_training_loop\u001b[0m\u001b[0;34m,\u001b[0m \u001b[0mself\u001b[0m\u001b[0;34m.\u001b[0m\u001b[0m_train_batch_size\u001b[0m\u001b[0;34m,\u001b[0m \u001b[0margs\u001b[0m\u001b[0;34m.\u001b[0m\u001b[0mauto_find_batch_size\u001b[0m\u001b[0;34m\u001b[0m\u001b[0;34m\u001b[0m\u001b[0m\n\u001b[1;32m   1316\u001b[0m         )\n\u001b[0;32m-> 1317\u001b[0;31m         return inner_training_loop(\n\u001b[0m\u001b[1;32m   1318\u001b[0m             \u001b[0margs\u001b[0m\u001b[0;34m=\u001b[0m\u001b[0margs\u001b[0m\u001b[0;34m,\u001b[0m\u001b[0;34m\u001b[0m\u001b[0;34m\u001b[0m\u001b[0m\n\u001b[1;32m   1319\u001b[0m             \u001b[0mresume_from_checkpoint\u001b[0m\u001b[0;34m=\u001b[0m\u001b[0mresume_from_checkpoint\u001b[0m\u001b[0;34m,\u001b[0m\u001b[0;34m\u001b[0m\u001b[0;34m\u001b[0m\u001b[0m\n",
      "\u001b[0;32m~/miniconda3/envs/pDL/lib/python3.8/site-packages/transformers/trainer.py\u001b[0m in \u001b[0;36m_inner_training_loop\u001b[0;34m(self, batch_size, args, resume_from_checkpoint, trial, ignore_keys_for_eval)\u001b[0m\n\u001b[1;32m   1552\u001b[0m                         \u001b[0mtr_loss_step\u001b[0m \u001b[0;34m=\u001b[0m \u001b[0mself\u001b[0m\u001b[0;34m.\u001b[0m\u001b[0mtraining_step\u001b[0m\u001b[0;34m(\u001b[0m\u001b[0mmodel\u001b[0m\u001b[0;34m,\u001b[0m \u001b[0minputs\u001b[0m\u001b[0;34m)\u001b[0m\u001b[0;34m\u001b[0m\u001b[0;34m\u001b[0m\u001b[0m\n\u001b[1;32m   1553\u001b[0m                 \u001b[0;32melse\u001b[0m\u001b[0;34m:\u001b[0m\u001b[0;34m\u001b[0m\u001b[0;34m\u001b[0m\u001b[0m\n\u001b[0;32m-> 1554\u001b[0;31m                     \u001b[0mtr_loss_step\u001b[0m \u001b[0;34m=\u001b[0m \u001b[0mself\u001b[0m\u001b[0;34m.\u001b[0m\u001b[0mtraining_step\u001b[0m\u001b[0;34m(\u001b[0m\u001b[0mmodel\u001b[0m\u001b[0;34m,\u001b[0m \u001b[0minputs\u001b[0m\u001b[0;34m)\u001b[0m\u001b[0;34m\u001b[0m\u001b[0;34m\u001b[0m\u001b[0m\n\u001b[0m\u001b[1;32m   1555\u001b[0m \u001b[0;34m\u001b[0m\u001b[0m\n\u001b[1;32m   1556\u001b[0m                 if (\n",
      "\u001b[0;32m~/miniconda3/envs/pDL/lib/python3.8/site-packages/transformers/trainer.py\u001b[0m in \u001b[0;36mtraining_step\u001b[0;34m(self, model, inputs)\u001b[0m\n\u001b[1;32m   2199\u001b[0m             \u001b[0mloss\u001b[0m \u001b[0;34m=\u001b[0m \u001b[0mself\u001b[0m\u001b[0;34m.\u001b[0m\u001b[0mdeepspeed\u001b[0m\u001b[0;34m.\u001b[0m\u001b[0mbackward\u001b[0m\u001b[0;34m(\u001b[0m\u001b[0mloss\u001b[0m\u001b[0;34m)\u001b[0m\u001b[0;34m\u001b[0m\u001b[0;34m\u001b[0m\u001b[0m\n\u001b[1;32m   2200\u001b[0m         \u001b[0;32melse\u001b[0m\u001b[0;34m:\u001b[0m\u001b[0;34m\u001b[0m\u001b[0;34m\u001b[0m\u001b[0m\n\u001b[0;32m-> 2201\u001b[0;31m             \u001b[0mloss\u001b[0m\u001b[0;34m.\u001b[0m\u001b[0mbackward\u001b[0m\u001b[0;34m(\u001b[0m\u001b[0;34m)\u001b[0m\u001b[0;34m\u001b[0m\u001b[0;34m\u001b[0m\u001b[0m\n\u001b[0m\u001b[1;32m   2202\u001b[0m \u001b[0;34m\u001b[0m\u001b[0m\n\u001b[1;32m   2203\u001b[0m         \u001b[0;32mreturn\u001b[0m \u001b[0mloss\u001b[0m\u001b[0;34m.\u001b[0m\u001b[0mdetach\u001b[0m\u001b[0;34m(\u001b[0m\u001b[0;34m)\u001b[0m\u001b[0;34m\u001b[0m\u001b[0;34m\u001b[0m\u001b[0m\n",
      "\u001b[0;32m~/miniconda3/envs/pDL/lib/python3.8/site-packages/torch/tensor.py\u001b[0m in \u001b[0;36mbackward\u001b[0;34m(self, gradient, retain_graph, create_graph)\u001b[0m\n\u001b[1;32m    196\u001b[0m                 \u001b[0mproducts\u001b[0m\u001b[0;34m.\u001b[0m \u001b[0mDefaults\u001b[0m \u001b[0mto\u001b[0m\u001b[0;31m \u001b[0m\u001b[0;31m`\u001b[0m\u001b[0;31m`\u001b[0m\u001b[0;32mFalse\u001b[0m\u001b[0;31m`\u001b[0m\u001b[0;31m`\u001b[0m\u001b[0;34m.\u001b[0m\u001b[0;34m\u001b[0m\u001b[0;34m\u001b[0m\u001b[0m\n\u001b[1;32m    197\u001b[0m         \"\"\"\n\u001b[0;32m--> 198\u001b[0;31m         \u001b[0mtorch\u001b[0m\u001b[0;34m.\u001b[0m\u001b[0mautograd\u001b[0m\u001b[0;34m.\u001b[0m\u001b[0mbackward\u001b[0m\u001b[0;34m(\u001b[0m\u001b[0mself\u001b[0m\u001b[0;34m,\u001b[0m \u001b[0mgradient\u001b[0m\u001b[0;34m,\u001b[0m \u001b[0mretain_graph\u001b[0m\u001b[0;34m,\u001b[0m \u001b[0mcreate_graph\u001b[0m\u001b[0;34m)\u001b[0m\u001b[0;34m\u001b[0m\u001b[0;34m\u001b[0m\u001b[0m\n\u001b[0m\u001b[1;32m    199\u001b[0m \u001b[0;34m\u001b[0m\u001b[0m\n\u001b[1;32m    200\u001b[0m     \u001b[0;32mdef\u001b[0m \u001b[0mregister_hook\u001b[0m\u001b[0;34m(\u001b[0m\u001b[0mself\u001b[0m\u001b[0;34m,\u001b[0m \u001b[0mhook\u001b[0m\u001b[0;34m)\u001b[0m\u001b[0;34m:\u001b[0m\u001b[0;34m\u001b[0m\u001b[0;34m\u001b[0m\u001b[0m\n",
      "\u001b[0;32m~/miniconda3/envs/pDL/lib/python3.8/site-packages/torch/autograd/__init__.py\u001b[0m in \u001b[0;36mbackward\u001b[0;34m(tensors, grad_tensors, retain_graph, create_graph, grad_variables)\u001b[0m\n\u001b[1;32m     96\u001b[0m         \u001b[0mretain_graph\u001b[0m \u001b[0;34m=\u001b[0m \u001b[0mcreate_graph\u001b[0m\u001b[0;34m\u001b[0m\u001b[0;34m\u001b[0m\u001b[0m\n\u001b[1;32m     97\u001b[0m \u001b[0;34m\u001b[0m\u001b[0m\n\u001b[0;32m---> 98\u001b[0;31m     Variable._execution_engine.run_backward(\n\u001b[0m\u001b[1;32m     99\u001b[0m         \u001b[0mtensors\u001b[0m\u001b[0;34m,\u001b[0m \u001b[0mgrad_tensors\u001b[0m\u001b[0;34m,\u001b[0m \u001b[0mretain_graph\u001b[0m\u001b[0;34m,\u001b[0m \u001b[0mcreate_graph\u001b[0m\u001b[0;34m,\u001b[0m\u001b[0;34m\u001b[0m\u001b[0;34m\u001b[0m\u001b[0m\n\u001b[1;32m    100\u001b[0m         allow_unreachable=True)  # allow_unreachable flag\n",
      "\u001b[0;31mRuntimeError\u001b[0m: CUDA out of memory. Tried to allocate 20.00 MiB (GPU 0; 1.96 GiB total capacity; 887.27 MiB already allocated; 6.19 MiB free; 924.00 MiB reserved in total by PyTorch) (malloc at /pytorch/c10/cuda/CUDACachingAllocator.cpp:289)\nframe #0: c10::Error::Error(c10::SourceLocation, std::string const&) + 0x46 (0x7f5298889536 in /home/dh2409/miniconda3/envs/pDL/lib/python3.8/site-packages/torch/lib/libc10.so)\nframe #1: <unknown function> + 0x1cf1e (0x7f5298ad2f1e in /home/dh2409/miniconda3/envs/pDL/lib/python3.8/site-packages/torch/lib/libc10_cuda.so)\nframe #2: <unknown function> + 0x1df9e (0x7f5298ad3f9e in /home/dh2409/miniconda3/envs/pDL/lib/python3.8/site-packages/torch/lib/libc10_cuda.so)\nframe #3: THCStorage_resize + 0x96 (0x7f5249ab53d6 in /home/dh2409/miniconda3/envs/pDL/lib/python3.8/site-packages/torch/lib/libtorch_cuda.so)\nframe #4: at::native::(anonymous namespace)::resize_cuda_(at::Tensor&, c10::ArrayRef<long>, c10::optional<c10::MemoryFormat>) + 0x9aa (0x7f524b2d8e4a in /home/dh2409/miniconda3/envs/pDL/lib/python3.8/site-packages/torch/lib/libtorch_cuda.so)\nframe #5: <unknown function> + 0x2887de3 (0x7f524b2d9de3 in /home/dh2409/miniconda3/envs/pDL/lib/python3.8/site-packages/torch/lib/libtorch_cuda.so)\nframe #6: <unknown function> + 0xf0ffe2 (0x7f5249961fe2 in /home/dh2409/miniconda3/envs/pDL/lib/python3.8/site-packages/torch/lib/libtorch_cuda.so)\nframe #7: <unknown function> + 0x1041be6 (0x7f5249a93be6 in /home/dh2409/miniconda3/envs/pDL/lib/python3.8/site-packages/torch/lib/libtorch_cuda.so)\nframe #8: <unknown function> + 0xf65018 (0x7f52499b7018 in /home/dh2409/miniconda3/envs/pDL/lib/python3.8/site-packages/torch/lib/libtorch_cuda.so)\nframe #9: <unknown function> + 0x10c2780 (0x7f5286326780 in /home/dh2409/miniconda3/envs/pDL/lib/python3.8/site-packages/torch/lib/libtorch_cpu.so)\nframe #10: <unknown function> + 0x2c9b47e (0x7f5287eff47e in /home/dh2409/miniconda3/envs/pDL/lib/python3.8/site-packages/torch/lib/libtorch_cpu.so)\nframe #11: <unknown function> + 0x10c2780 (0x7f5286326780 in /home/dh2409/miniconda3/envs/pDL/lib/python3.8/site-packages/torch/lib/libtorch_cpu.so)\nframe #12: at::Tensor::mm(at::Tensor const&) const + 0xf0 (0x7f5285ee9930 in /home/dh2409/miniconda3/envs/pDL/lib/python3.8/site-packages/torch/lib/libtorch_cpu.so)\nframe #13: <unknown function> + 0x28e6b5c (0x7f5287b4ab5c in /home/dh2409/miniconda3/envs/pDL/lib/python3.8/site-packages/torch/lib/libtorch_cpu.so)\nframe #14: torch::autograd::generated::MmBackward::apply(std::vector<at::Tensor, std::allocator<at::Tensor> >&&) + 0x151 (0x7f5287b4b961 in /home/dh2409/miniconda3/envs/pDL/lib/python3.8/site-packages/torch/lib/libtorch_cpu.so)\nframe #15: <unknown function> + 0x2d89705 (0x7f5287fed705 in /home/dh2409/miniconda3/envs/pDL/lib/python3.8/site-packages/torch/lib/libtorch_cpu.so)\nframe #16: torch::autograd::Engine::evaluate_function(std::shared_ptr<torch::autograd::GraphTask>&, torch::autograd::Node*, torch::autograd::InputBuffer&) + 0x16f3 (0x7f5287feaa03 in /home/dh2409/miniconda3/envs/pDL/lib/python3.8/site-packages/torch/lib/libtorch_cpu.so)\nframe #17: torch::autograd::Engine::thread_main(std::shared_ptr<torch::autograd::GraphTask> const&, bool) + 0x3d2 (0x7f5287feb7e2 in /home/dh2409/miniconda3/envs/pDL/lib/python3.8/site-packages/torch/lib/libtorch_cpu.so)\nframe #18: torch::autograd::Engine::thread_init(int) + 0x39 (0x7f5287fe3e59 in /home/dh2409/miniconda3/envs/pDL/lib/python3.8/site-packages/torch/lib/libtorch_cpu.so)\nframe #19: torch::autograd::python::PythonEngine::thread_init(int) + 0x38 (0x7f529960c5f8 in /home/dh2409/miniconda3/envs/pDL/lib/python3.8/site-packages/torch/lib/libtorch_python.so)\nframe #20: <unknown function> + 0xcc9d4 (0x7f52e88429d4 in /home/dh2409/miniconda3/envs/pDL/bin/../lib/libstdc++.so.6)\nframe #21: <unknown function> + 0x76db (0x7f52ebf196db in /lib/x86_64-linux-gnu/libpthread.so.0)\nframe #22: clone + 0x3f (0x7f52eb29561f in /lib/x86_64-linux-gnu/libc.so.6)\n"
     ]
    }
   ],
   "source": [
    "dataset = load_dataset('csv',data_files={'train' : 'train.csv',\n",
    "                                         'val' : 'test.csv'})\n",
    "\n",
    "dataset_prepare = dataset.map(prepare_dataset, remove_columns=dataset.column_names[\"train\"], batch_size=4, num_proc=8, batched=True) \n",
    "\n",
    "data_collator = DataCollatorWithPadding(tokenizer=tokenizer)\n",
    "\n",
    "model = AutoModelForSequenceClassification.from_pretrained(\"vinai/phobert-base\", num_labels=2)\n",
    "\n",
    "training_args = TrainingArguments(\n",
    "    output_dir=\"./phoBert-sa\",\n",
    "    learning_rate=2e-5,\n",
    "    per_device_train_batch_size=4,\n",
    "    per_device_eval_batch_size=4,\n",
    "    num_train_epochs=5,\n",
    "    weight_decay=0.01,\n",
    ")\n",
    "\n",
    "trainer = Trainer(\n",
    "    model=model,\n",
    "    args=training_args,\n",
    "    train_dataset=dataset_prepare['train'],\n",
    "    eval_dataset=dataset_prepare['val'],\n",
    "    tokenizer=tokenizer,\n",
    "    data_collator=data_collator,\n",
    ")\n",
    "\n",
    "trainer.train()"
   ]
  },
  {
   "cell_type": "code",
   "execution_count": null,
   "id": "antique-healing",
   "metadata": {},
   "outputs": [],
   "source": []
  }
 ],
 "metadata": {
  "kernelspec": {
   "display_name": "Python [conda env:pDL] *",
   "language": "python",
   "name": "conda-env-pDL-py"
  },
  "language_info": {
   "codemirror_mode": {
    "name": "ipython",
    "version": 3
   },
   "file_extension": ".py",
   "mimetype": "text/x-python",
   "name": "python",
   "nbconvert_exporter": "python",
   "pygments_lexer": "ipython3",
   "version": "3.8.13"
  }
 },
 "nbformat": 4,
 "nbformat_minor": 5
}
